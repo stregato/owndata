{
 "cells": [
  {
   "cell_type": "code",
   "execution_count": 3,
   "id": "fa24d43c",
   "metadata": {},
   "outputs": [],
   "source": [
    "from stash import *\n",
    "#set_stash_log_level('debug')\n"
   ]
  },
  {
   "cell_type": "markdown",
   "id": "a064cdf7-2c54-4cd8-be61-f2bdd686e3c0",
   "metadata": {},
   "source": [
    "# Introduction\n",
    "Mio is a library designed to store and share protected information. It allows information to be stored in public and cloud locations (e.g., S3) while ensuring that only intended peers have access, and not the storage service providers."
   ]
  },
  {
   "cell_type": "markdown",
   "id": "01ff1c1d-4a41-47a0-a1ea-a293718fc4ab",
   "metadata": {},
   "source": [
    "### Identity\n",
    "Each peer in the information sharing is identified by a cryptographic key, which allows for identification via signature and asymmetric encryption of data. An identity also includes a nickname, a human-readable name for easier management.\n",
    "\n",
    "An identity consists of a public ID, which is a combination of the nickname and the public part of the cryptographic key."
   ]
  },
  {
   "cell_type": "code",
   "execution_count": 4,
   "id": "fe2dd18b",
   "metadata": {},
   "outputs": [
    {
     "name": "stdout",
     "output_type": "stream",
     "text": [
      "ID:  Admin.AzVG4JpFxUiIr1nT+nGqYHXVHkuD5nMG2KRYMWX6lC93C7iM7aKlmZ8XsH1Ba3reKQQ+7RehK5KzmEcJCW3WwPE!\n",
      "Nick:  Admin\n",
      "Private key JcJyc1tALqIplm+F4x5lC6P3OCyihfagbViAtmu1ZN0s4rO3bQYXzhvIbT+KeaKZ05QZWpkrVLwosRysIO3rtwu4jO2ipZmfF7B9QWt63ikEPu0XoSuSs5hHCQlt1sDx\n"
     ]
    }
   ],
   "source": [
    "i = Identity('Admin')  # New identity with name\n",
    "\n",
    "print('ID: ', i.id)\n",
    "print('Nick: ', i.nick)\n",
    "print('Private key', i.private)"
   ]
  },
  {
   "cell_type": "markdown",
   "id": "8e6fe251-b974-4b26-99f7-45b8ebe94bde",
   "metadata": {},
   "source": [
    "### Local DB\n",
    "The library requires a local SQLite database to manage metadata and encryption keys. By default, this database is named _stash.db_ and is created in the user's configuration folder."
   ]
  },
  {
   "cell_type": "code",
   "execution_count": 5,
   "id": "998979a6-c24a-4f60-b200-b19e182636bb",
   "metadata": {},
   "outputs": [
    {
     "data": {
      "text/plain": [
       "/home/ea/.config/stash.db"
      ]
     },
     "execution_count": 5,
     "metadata": {},
     "output_type": "execute_result"
    }
   ],
   "source": [
    "DB.default()"
   ]
  },
  {
   "cell_type": "markdown",
   "id": "059b7561-c717-4e37-8874-400f40ef2608",
   "metadata": {},
   "source": [
    "### Safe\n",
    "The information container is called a safe. The safe integrates a local database, the identity, and a storage URL to create a protected information storage system.\n",
    "\n",
    "As of this writing, the library supports the following storage media: local filesystem, SFTP, S3, and WebDav. The table below shows the URL format for each storage type. The URL path includes the public ID of the safe's creator and a user-friendly name for the safe.\n",
    "\n",
    "|Media|Format|Sample|\n",
    "|-|-|-|\n",
    "|local|file://_path_/_id_/_name_|file:///tmp/stash/Admin.A3Z1CR0wYMK_gXsRLkpowC3dVFC5rUNEeakiWPyb3D5l5VD1SXEFTxzQKEIvzNvKGEZGYp4yETo77SN+ViGP_00!/sample|\n",
    "|S3|s3://_server_/_bucket_/_id_/_name_?a=_access_&s=_secret_|s3://d551285d92ed8fa4048fc09ca9113568.r2.cloudflarestorage.com/stash/Admin.A3Z1CR0wYMK_gXsRLkpowC3dVFC5rUNEeakiWPyb3D5l5VD1SXEFTxzQKEIvzNvKGEZGYp4yETo77SN+ViGP_00!/sample?a=acc5aba2f85d63536bbb45f085bb2b23&s=bcc49533aaaa46d929282b542ce598a12f7a4522dac8d5e9d403b39629484c2b&region=auto|\n"
   ]
  },
  {
   "cell_type": "markdown",
   "id": "49123443-517a-41fe-81fc-658846af2bb2",
   "metadata": {},
   "source": [
    "A new safe is created using the _create_ method."
   ]
  },
  {
   "cell_type": "code",
   "execution_count": 6,
   "id": "72b3822b",
   "metadata": {},
   "outputs": [
    {
     "data": {
      "text/plain": [
       "file:///tmp/stash/Admin.AzVG4JpFxUiIr1nT+nGqYHXVHkuD5nMG2KRYMWX6lC93C7iM7aKlmZ8XsH1Ba3reKQQ+7RehK5KzmEcJCW3WwPE!/sample"
      ]
     },
     "execution_count": 6,
     "metadata": {},
     "output_type": "execute_result"
    }
   ],
   "source": [
    "url = 'file:///tmp/stash/{}/sample'.format(i)\n",
    "s = Safe.create(DB.default(), i, url)\n",
    "s"
   ]
  },
  {
   "cell_type": "markdown",
   "id": "fa43d0fe-8e80-4af8-82e3-df5b24fd5f71",
   "metadata": {},
   "source": [
    "At creation, only the creator belongs to the safe in both the _adm_ and _usr_ groups. Similar to Unix operating systems, a safe has multiple groups that define the permissions for different users (identities). The _get_groups_ method displays the available groups and their associated users."
   ]
  },
  {
   "cell_type": "code",
   "execution_count": 7,
   "id": "b2613318-0e6e-40cd-aced-3e6f16fe006a",
   "metadata": {},
   "outputs": [
    {
     "data": {
      "text/plain": [
       "{'adm': {'Admin.AzVG4JpFxUiIr1nT+nGqYHXVHkuD5nMG2KRYMWX6lC93C7iM7aKlmZ8XsH1Ba3reKQQ+7RehK5KzmEcJCW3WwPE!': True},\n",
       " 'usr': {'Admin.AzVG4JpFxUiIr1nT+nGqYHXVHkuD5nMG2KRYMWX6lC93C7iM7aKlmZ8XsH1Ba3reKQQ+7RehK5KzmEcJCW3WwPE!': True}}"
      ]
     },
     "execution_count": 7,
     "metadata": {},
     "output_type": "execute_result"
    }
   ],
   "source": [
    "s.get_groups()"
   ]
  },
  {
   "cell_type": "markdown",
   "id": "2ccd2e9d-7224-4448-814d-5f6ffd674217",
   "metadata": {},
   "source": [
    "A user can be added to the safe using the _update_group_ method"
   ]
  },
  {
   "cell_type": "code",
   "execution_count": 8,
   "id": "ae459953-cf28-458c-96b3-57b22a59e0a5",
   "metadata": {},
   "outputs": [
    {
     "data": {
      "text/plain": [
       "{'adm': {'Admin.AzVG4JpFxUiIr1nT+nGqYHXVHkuD5nMG2KRYMWX6lC93C7iM7aKlmZ8XsH1Ba3reKQQ+7RehK5KzmEcJCW3WwPE!': True},\n",
       " 'usr': {'Admin.AzVG4JpFxUiIr1nT+nGqYHXVHkuD5nMG2KRYMWX6lC93C7iM7aKlmZ8XsH1Ba3reKQQ+7RehK5KzmEcJCW3WwPE!': True,\n",
       "  'Alice.A9WJFOjv5i_vi5BjpnNTsy0ZqPBFTgkwgx5tpkklUc_Cfo1nDwBrVWp4FeTPvELhr0G+mTWOOOxzs0FTPTBdOgE!': True}}"
      ]
     },
     "execution_count": 8,
     "metadata": {},
     "output_type": "execute_result"
    }
   ],
   "source": [
    "alice = Identity('Alice')\n",
    "s.update_group('usr', Safe.grant, [alice.id])"
   ]
  },
  {
   "cell_type": "markdown",
   "id": "a761fd35-ad2a-4474-b759-1c32de8f8386",
   "metadata": {},
   "source": [
    "### Filesystem\n",
    "A filesystem provides a file-oriented interface on top of a safe. Use the _put_data_ method to write a new file and the _list_ method to display the updated directory contents."
   ]
  },
  {
   "cell_type": "code",
   "execution_count": 9,
   "id": "5c4b38a4",
   "metadata": {},
   "outputs": [
    {
     "data": {
      "text/plain": [
       "[{'ID': 0,\n",
       "  'Dir': '',\n",
       "  'Name': 'sub',\n",
       "  'IsDir': True,\n",
       "  'GroupName': '',\n",
       "  'Creator': '',\n",
       "  'Size': 0,\n",
       "  'ModTime': '1970-01-01T01:00:00+01:00',\n",
       "  'Tags': [''],\n",
       "  'Attributes': None,\n",
       "  'LocalCopy': '',\n",
       "  'CopyTime': '1970-01-01T01:00:00+01:00',\n",
       "  'EncryptionKey': ''}]"
      ]
     },
     "execution_count": 9,
     "metadata": {},
     "output_type": "execute_result"
    }
   ],
   "source": [
    "fs = s.fs()\n",
    "fs.put_data('sub/test.txt', b'test')\n",
    "fs.list()"
   ]
  },
  {
   "cell_type": "code",
   "execution_count": 10,
   "id": "98588960-c6fa-46ee-8a58-6cea9bf4fb3c",
   "metadata": {},
   "outputs": [
    {
     "data": {
      "text/plain": [
       "[{'ID': 196161307740151808,\n",
       "  'Dir': 'sub',\n",
       "  'Name': 'test.txt',\n",
       "  'IsDir': False,\n",
       "  'GroupName': 'usr',\n",
       "  'Creator': 'Admin.AzVG4JpFxUiIr1nT+nGqYHXVHkuD5nMG2KRYMWX6lC93C7iM7aKlmZ8XsH1Ba3reKQQ+7RehK5KzmEcJCW3WwPE!',\n",
       "  'Size': 4,\n",
       "  'ModTime': '2024-06-25T09:15:00.264287664+02:00',\n",
       "  'Tags': [''],\n",
       "  'Attributes': None,\n",
       "  'LocalCopy': '',\n",
       "  'CopyTime': '2024-06-25T09:15:00.264547305+02:00',\n",
       "  'EncryptionKey': 'fe5fYoy2t0cHjRw7e8Wv426iOTCrwZluIDnMW7aJkEWYESiSW++xWGyT8XyjwRXx'}]"
      ]
     },
     "execution_count": 10,
     "metadata": {},
     "output_type": "execute_result"
    }
   ],
   "source": [
    "fs.list('sub')"
   ]
  },
  {
   "cell_type": "code",
   "execution_count": 11,
   "id": "8ba8b88c",
   "metadata": {},
   "outputs": [
    {
     "data": {
      "text/plain": [
       "b'test'"
      ]
     },
     "execution_count": 11,
     "metadata": {},
     "output_type": "execute_result"
    }
   ],
   "source": [
    "fs.get_data('sub/test.txt')"
   ]
  },
  {
   "cell_type": "code",
   "execution_count": 12,
   "id": "79bf19a2-55ba-4c84-95cf-433df899853d",
   "metadata": {},
   "outputs": [
    {
     "data": {
      "text/plain": [
       "[]"
      ]
     },
     "execution_count": 12,
     "metadata": {},
     "output_type": "execute_result"
    }
   ],
   "source": [
    "fs.delete('sub/test.txt')\n",
    "fs.list()"
   ]
  },
  {
   "cell_type": "markdown",
   "id": "a26cf804-af5f-40c0-9a76-4710cd93a069",
   "metadata": {},
   "source": [
    "### Distributed Database\n",
    "A SQL sqlite API where changes are propagated to other peer through the safe.\n",
    "\n",
    "A new instance requires a group that will be used during the transfer of data through the safe. Only users that belong to the group will receive updates. \n",
    "During the creation of the instance same initialization  _ddl_  can be provided in input; each initialization SQL mut be preceed by a comment _-- INIT_\n"
   ]
  },
  {
   "cell_type": "code",
   "execution_count": 13,
   "id": "6526eadd-351f-45de-8917-444c3328ba35",
   "metadata": {
    "scrolled": true
   },
   "outputs": [],
   "source": [
    "ddl = \"\"\"\n",
    "-- INIT\n",
    "CREATE TABLE IF NOT EXISTS animal (name TEXT)\n",
    "\"\"\"\n",
    "\n",
    "ddls = {1.0: ddl}\n",
    "d = s.database('usr', ddls)"
   ]
  },
  {
   "cell_type": "markdown",
   "id": "2020ea6b-89bb-4e42-bba6-04dbb4180f9c",
   "metadata": {},
   "source": [
    "The below code insert a row in the table and then retrieve all the values"
   ]
  },
  {
   "cell_type": "code",
   "execution_count": 14,
   "id": "f5376b30-81bc-4f5b-8d14-9cc3f5eec775",
   "metadata": {},
   "outputs": [
    {
     "name": "stdout",
     "output_type": "stream",
     "text": [
      "['cat']\n",
      "['cat']\n"
     ]
    }
   ],
   "source": [
    "d.exec('INSERT INTO animal VALUES (:name)', name = 'cat')\n",
    "rows = d.query(\"SELECT * FROM animal \")\n",
    "for row in rows:\n",
    "    print(row)"
   ]
  },
  {
   "cell_type": "markdown",
   "id": "c81ba0fe-2578-4695-af2a-0cf64c3c9cd2",
   "metadata": {},
   "source": [
    "The methods _exec_ and _select_ operate locally. Only when the method _sync_ is called, changes propagates to other peers and at the same outgoing changes are applied."
   ]
  },
  {
   "cell_type": "code",
   "execution_count": 15,
   "id": "023ccfa7-7faf-4dc0-ad3d-117a79a16b95",
   "metadata": {},
   "outputs": [],
   "source": [
    "d.sync()"
   ]
  },
  {
   "cell_type": "markdown",
   "id": "d27a38db-73ab-4a9e-b96a-16cc9e9982e3",
   "metadata": {},
   "source": [
    "The API includes a mechanism for defining placeholders within initialization SQL, which enhances both readability and performance. To create a placeholder, add a comment prefix (--) followed by the placeholder name, and then write the SQL query you want to assign to that placeholder. This placeholder can then be used in place of the actual query in exec and query operations. Using placeholders not only makes your SQL more readable but also allows the API to cache the statement, improving execution efficiency."
   ]
  },
  {
   "cell_type": "code",
   "execution_count": 16,
   "id": "435bc151-93c5-4e4b-924b-ce0061942cde",
   "metadata": {},
   "outputs": [
    {
     "name": "stdout",
     "output_type": "stream",
     "text": [
      "['cat']\n",
      "['cat']\n",
      "['cat']\n"
     ]
    }
   ],
   "source": [
    "ddl = \"\"\"\n",
    "-- INIT\n",
    "CREATE TABLE IF NOT EXISTS animal (name TEXT)\n",
    "\n",
    "-- INSERT_ANIMAL\n",
    "INSERT INTO animal VALUES (:name)\n",
    "\n",
    "-- SELECT_ANIMALS\n",
    "SELECT * FROM animal\n",
    "\"\"\"\n",
    "\n",
    "ddls = {1.0: ddl}\n",
    "d = s.database('usr', ddls)\n",
    "\n",
    "d.exec('INSERT_ANIMAL', name = 'cat')\n",
    "rows = d.query('SELECT_ANIMALS')\n",
    "for row in rows:\n",
    "    print(row)\n"
   ]
  },
  {
   "cell_type": "code",
   "execution_count": 17,
   "id": "75348730-34dd-456b-bdfc-ccc26ab344e4",
   "metadata": {},
   "outputs": [
    {
     "data": {
      "text/plain": [
       "3"
      ]
     },
     "execution_count": 17,
     "metadata": {},
     "output_type": "execute_result"
    }
   ],
   "source": [
    "d.exec('DELETE FROM animal')"
   ]
  },
  {
   "cell_type": "code",
   "execution_count": 19,
   "id": "82333763-02c3-46da-ab30-a58146e13b12",
   "metadata": {},
   "outputs": [],
   "source": [
    "d.sync()"
   ]
  },
  {
   "cell_type": "code",
   "execution_count": null,
   "id": "ac44706d-08da-45a8-8894-7b6b67a2a2ea",
   "metadata": {},
   "outputs": [],
   "source": []
  }
 ],
 "metadata": {
  "kernelspec": {
   "display_name": "Python 3 (ipykernel)",
   "language": "python",
   "name": "python3"
  },
  "language_info": {
   "codemirror_mode": {
    "name": "ipython",
    "version": 3
   },
   "file_extension": ".py",
   "mimetype": "text/x-python",
   "name": "python",
   "nbconvert_exporter": "python",
   "pygments_lexer": "ipython3",
   "version": "3.12.2"
  }
 },
 "nbformat": 4,
 "nbformat_minor": 5
}

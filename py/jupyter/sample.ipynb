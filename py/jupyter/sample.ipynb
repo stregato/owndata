{
 "cells": [
  {
   "cell_type": "code",
   "execution_count": 6,
   "id": "92263d60",
   "metadata": {},
   "outputs": [
    {
     "name": "stdout",
     "output_type": "stream",
     "text": [
      "Requirement already satisfied: pstash in /Users/ea/Documents/Lab/stash/.venv/lib/python3.9/site-packages (0.1.4)\n",
      "Note: you may need to restart the kernel to use updated packages.\n"
     ]
    }
   ],
   "source": [
    "%pip install --upgrade pstash"
   ]
  },
  {
   "cell_type": "code",
   "execution_count": 7,
   "id": "fa24d43c",
   "metadata": {},
   "outputs": [
    {
     "ename": "NameError",
     "evalue": "name 'set_stash_log_level' is not defined",
     "output_type": "error",
     "traceback": [
      "\u001b[0;31m---------------------------------------------------------------------------\u001b[0m",
      "\u001b[0;31mNameError\u001b[0m                                 Traceback (most recent call last)",
      "Cell \u001b[0;32mIn[7], line 2\u001b[0m\n\u001b[1;32m      1\u001b[0m \u001b[38;5;28;01mfrom\u001b[39;00m \u001b[38;5;21;01mpstash\u001b[39;00m \u001b[38;5;28;01mimport\u001b[39;00m \u001b[38;5;241m*\u001b[39m\n\u001b[0;32m----> 2\u001b[0m \u001b[43mset_stash_log_level\u001b[49m(\u001b[38;5;124m'\u001b[39m\u001b[38;5;124mdebug\u001b[39m\u001b[38;5;124m'\u001b[39m)\n",
      "\u001b[0;31mNameError\u001b[0m: name 'set_stash_log_level' is not defined"
     ]
    }
   ],
   "source": [
    "from pstash import *\n",
    "set_stash_log_level('debug')\n"
   ]
  },
  {
   "cell_type": "markdown",
   "id": "a064cdf7-2c54-4cd8-be61-f2bdd686e3c0",
   "metadata": {},
   "source": [
    "# Introduction\n",
    "Stash is a library designed to store and share protected information. It allows information to be stored in public and cloud locations (e.g., S3) while ensuring that only intended peers have access, and not the storage service providers."
   ]
  },
  {
   "cell_type": "markdown",
   "id": "01ff1c1d-4a41-47a0-a1ea-a293718fc4ab",
   "metadata": {},
   "source": [
    "### Identity\n",
    "Each peer in the information sharing is identified by a cryptographic key, which allows for identification via signature and asymmetric encryption of data. An identity also includes a nickname, a human-readable name for easier management.\n",
    "\n",
    "An identity consists of a public ID, which is a combination of the nickname and the public part of the cryptographic key."
   ]
  },
  {
   "cell_type": "code",
   "execution_count": 8,
   "id": "fe2dd18b",
   "metadata": {},
   "outputs": [
    {
     "name": "stdout",
     "output_type": "stream",
     "text": [
      "ID:  Admin.AgnqY7FVrgVdVgd84EIJKKDR3AEJQtAyGRh4MhFCTgOP_5RWa5Xmh1aXbLraA64Rj7udgrBv5bhEBl9Cu8d25Hg!\n",
      "Nick:  Admin\n",
      "Private key vSonyVpWTd34_3lSGHn7HvJtVBN1+aOnW2taSl7BMmzFFbIic99rU+bLpt+9VV2GLiWgOxxfiAGbMRfnn0UM9f+UVmuV5odWl2y62gOuEY+7nYKwb+W4RAZfQrvHduR4\n"
     ]
    }
   ],
   "source": [
    "i = Identity('Admin')  # New identity with name\n",
    "\n",
    "print('ID: ', i.id)\n",
    "print('Nick: ', i.nick)\n",
    "print('Private key', i.private)"
   ]
  },
  {
   "cell_type": "markdown",
   "id": "8e6fe251-b974-4b26-99f7-45b8ebe94bde",
   "metadata": {},
   "source": [
    "### Local DB\n",
    "The library requires a local SQLite database to manage metadata and encryption keys. By default, this database is named _stash.db_ and is created in the user's configuration folder."
   ]
  },
  {
   "cell_type": "code",
   "execution_count": 9,
   "id": "998979a6-c24a-4f60-b200-b19e182636bb",
   "metadata": {},
   "outputs": [
    {
     "data": {
      "text/plain": [
       "/Users/ea/Library/Application Support/stash.db"
      ]
     },
     "execution_count": 9,
     "metadata": {},
     "output_type": "execute_result"
    }
   ],
   "source": [
    "DB.default()"
   ]
  },
  {
   "cell_type": "markdown",
   "id": "059b7561-c717-4e37-8874-400f40ef2608",
   "metadata": {},
   "source": [
    "### Safe\n",
    "The information container is called a safe. The safe integrates a local database, the identity, and a storage URL to create a protected information storage system.\n",
    "\n",
    "As of this writing, the library supports the following storage media: local filesystem, SFTP, S3, and WebDav. The table below shows the URL format for each storage type. The URL path includes the public ID of the safe's creator and a user-friendly name for the safe.\n",
    "\n",
    "|Media|Format|Sample|\n",
    "|-|-|-|\n",
    "|local|file://_path_/_id_/_name_|file:///tmp/stash/Admin.A3Z1CR0wYMK_gXsRLkpowC3dVFC5rUNEeakiWPyb3D5l5VD1SXEFTxzQKEIvzNvKGEZGYp4yETo77SN+ViGP_00!/sample|\n",
    "|S3|s3://_server_/_bucket_/_id_/_name_?a=_access_&s=_secret_|s3://d551285d92ed8fa4048fc09ca9113568.r2.cloudflarestorage.com/stash/Admin.A3Z1CR0wYMK_gXsRLkpowC3dVFC5rUNEeakiWPyb3D5l5VD1SXEFTxzQKEIvzNvKGEZGYp4yETo77SN+ViGP_00!/sample?a=acc5aba2f85d63536bbb45f085bb2b23&s=bcc49533aaaa46d929282b542ce598a12f7a4522dac8d5e9d403b39629484c2b&region=auto|\n"
   ]
  },
  {
   "cell_type": "markdown",
   "id": "49123443-517a-41fe-81fc-658846af2bb2",
   "metadata": {},
   "source": [
    "A new safe is created using the _create_ method."
   ]
  },
  {
   "cell_type": "code",
   "execution_count": 10,
   "id": "72b3822b",
   "metadata": {},
   "outputs": [
    {
     "ename": "NameError",
     "evalue": "name 'Safe' is not defined",
     "output_type": "error",
     "traceback": [
      "\u001b[0;31m---------------------------------------------------------------------------\u001b[0m",
      "\u001b[0;31mNameError\u001b[0m                                 Traceback (most recent call last)",
      "Cell \u001b[0;32mIn[10], line 2\u001b[0m\n\u001b[1;32m      1\u001b[0m url \u001b[38;5;241m=\u001b[39m \u001b[38;5;124m'\u001b[39m\u001b[38;5;124mfile:///tmp/stash/\u001b[39m\u001b[38;5;132;01m{}\u001b[39;00m\u001b[38;5;124m/sample\u001b[39m\u001b[38;5;124m'\u001b[39m\u001b[38;5;241m.\u001b[39mformat(i)\n\u001b[0;32m----> 2\u001b[0m s \u001b[38;5;241m=\u001b[39m \u001b[43mSafe\u001b[49m\u001b[38;5;241m.\u001b[39mcreate(DB\u001b[38;5;241m.\u001b[39mdefault(), i, url)\n\u001b[1;32m      3\u001b[0m s\n",
      "\u001b[0;31mNameError\u001b[0m: name 'Safe' is not defined"
     ]
    }
   ],
   "source": [
    "url = 'file:///tmp/stash/{}/sample'.format(i)\n",
    "s = Safe.create(DB.default(), i, url)\n",
    "s"
   ]
  },
  {
   "cell_type": "markdown",
   "id": "fa43d0fe-8e80-4af8-82e3-df5b24fd5f71",
   "metadata": {},
   "source": [
    "At creation, only the creator belongs to the safe in both the _adm_ and _usr_ groups. Similar to Unix operating systems, a safe has multiple groups that define the permissions for different users (identities). The _get_groups_ method displays the available groups and their associated users."
   ]
  },
  {
   "cell_type": "code",
   "execution_count": 5,
   "id": "b2613318-0e6e-40cd-aced-3e6f16fe006a",
   "metadata": {},
   "outputs": [
    {
     "name": "stderr",
     "output_type": "stream",
     "text": [
      "time=\"2024-07-16T09:09:49+02:00\" level=info msg=\"safe.SyncGroupChain[group.go:187] - group chain is up to date, using the local copy\"\n"
     ]
    },
    {
     "data": {
      "text/plain": [
       "{'adm': {'Admin.ArsbgIrlX148mKQ9sNZ7Gu7Xpo2hCU8oBztkVf_0_89rdf3qP8Yqv6FzGW4KTc18WcEPnCpybORzEw+TOHIQhkI!': True},\n",
       " 'usr': {'Admin.ArsbgIrlX148mKQ9sNZ7Gu7Xpo2hCU8oBztkVf_0_89rdf3qP8Yqv6FzGW4KTc18WcEPnCpybORzEw+TOHIQhkI!': True}}"
      ]
     },
     "execution_count": 5,
     "metadata": {},
     "output_type": "execute_result"
    }
   ],
   "source": [
    "s.get_groups()"
   ]
  },
  {
   "cell_type": "markdown",
   "id": "2ccd2e9d-7224-4448-814d-5f6ffd674217",
   "metadata": {},
   "source": [
    "A user can be added to the safe using the _update_group_ method"
   ]
  },
  {
   "cell_type": "code",
   "execution_count": 6,
   "id": "ae459953-cf28-458c-96b3-57b22a59e0a5",
   "metadata": {},
   "outputs": [
    {
     "name": "stderr",
     "output_type": "stream",
     "text": [
      "time=\"2024-07-16T09:09:50+02:00\" level=info msg=\"safe.SyncGroupChain[group.go:187] - group chain is up to date, using the local copy\"\n",
      "time=\"2024-07-16T09:09:50+02:00\" level=info msg=\"safe.applyChange[group.go:338] - group change applied: Alice granted to usr by Admin\"\n",
      "time=\"2024-07-16T09:09:50+02:00\" level=info msg=\"safe.(*Safe).UpdateGroup[group.go:133] - group change created and added to the chain: Alice granted to usr by Admin\"\n",
      "time=\"2024-07-16T09:09:50+02:00\" level=info msg=\"safe.writeGroupChanges[group.go:447] - group changes written to the store on batches [0]\"\n",
      "time=\"2024-07-16T09:09:51+02:00\" level=info msg=\"safe.writeKeystore[key.go:237] - keystore usr.ks written successfully by Admin: users Alice, Admin\"\n"
     ]
    },
    {
     "data": {
      "text/plain": [
       "{'adm': {'Admin.ArsbgIrlX148mKQ9sNZ7Gu7Xpo2hCU8oBztkVf_0_89rdf3qP8Yqv6FzGW4KTc18WcEPnCpybORzEw+TOHIQhkI!': True},\n",
       " 'usr': {'Admin.ArsbgIrlX148mKQ9sNZ7Gu7Xpo2hCU8oBztkVf_0_89rdf3qP8Yqv6FzGW4KTc18WcEPnCpybORzEw+TOHIQhkI!': True,\n",
       "  'Alice.A0Me7TDwg0pBl8CbxEKLuwC3_WVP9Rqu1U1nkWCRF7CLQUzMxOGfczncxrMQtT5+a1LicmxNiDoRGg4Q3nelqIU!': True}}"
      ]
     },
     "execution_count": 6,
     "metadata": {},
     "output_type": "execute_result"
    }
   ],
   "source": [
    "alice = Identity('Alice')\n",
    "s.update_group('usr', Safe.grant, [alice.id])"
   ]
  },
  {
   "cell_type": "markdown",
   "id": "abc9b6ec-c80f-4860-b4ed-91dc1dab39f9",
   "metadata": {},
   "source": [
    "To open an existing safe, use the _open_ method."
   ]
  },
  {
   "cell_type": "code",
   "execution_count": 23,
   "id": "2da93ef1-e9d5-4212-b279-2ba90ad87c43",
   "metadata": {},
   "outputs": [
    {
     "name": "stderr",
     "output_type": "stream",
     "text": [
      "time=\"2024-07-16T17:33:45+02:00\" level=info msg=\"sqlx.(*DB).Define[define.go:38] - SQL Init stmt (line 1) 'CREATE TABLE IF NOT EXISTS stash_configs (\\nnode    VARCHAR(128) NOT NULL,\\nk       VARCHAR(64) NOT NULL,\\ns       VARCHAR(64) NOT NULL,\\ni       INTEGER NOT NULL,\\nb       BLOB,\\nCONSTRAINT pk_safe_key PRIMARY KEY(node,k)\\n);\\n' executed\\n\"\n",
      "time=\"2024-07-16T17:33:45+02:00\" level=info msg=\"sqlx.(*DB).prepareStatement[define.go:81] - SQL statement compiled: 'STASH_GET_CONFIG' (11) 'SELECT s, i, b FROM stash_configs WHERE node=:node AND k=:key\\n'\\n\"\n",
      "time=\"2024-07-16T17:33:45+02:00\" level=info msg=\"sqlx.(*DB).prepareStatement[define.go:81] - SQL statement compiled: 'STASH_SET_CONFIG' (14) 'INSERT INTO stash_configs(node,k,s,i,b) VALUES(:node,:key,:s,:i,:b)\\n\\tON CONFLICT(node,k) DO UPDATE SET s=:s,i=:i,b=:b\\n\\tWHERE node=:node AND k=:key\\n'\\n\"\n",
      "time=\"2024-07-16T17:33:45+02:00\" level=info msg=\"sqlx.(*DB).prepareStatement[define.go:81] - SQL statement compiled: 'STASH_DEL_CONFIG' (19) 'DELETE FROM stash_configs WHERE node=:node\\n'\\n\"\n",
      "time=\"2024-07-16T17:33:45+02:00\" level=info msg=\"sqlx.(*DB).prepareStatement[define.go:81] - SQL statement compiled: 'STASH_LIST_CONFIG' (22) 'SELECT k FROM stash_configs WHERE node=:node\\n'\\n\"\n",
      "time=\"2024-07-16T17:33:45+02:00\" level=info msg=\"sqlx.(*DB).Define[define.go:38] - SQL Init stmt (line 25) 'CREATE TABLE IF NOT EXISTS stash_files (\\nsafeID          VARCHAR(256)    NOT NULL,\\nname            VARCHAR(256)    NOT NULL,\\ndir             VARCHAR(4096)   NOT NULL,\\nid              INTEGER         NOT NULL,\\ncreator         VARCHAR(256)    NOT NULL,\\ngroupName       VARCHAR(256)    NOT NULL,\\ntags            VARCHAR(4096)   NOT NULL,\\nencryptionKey   VARCHAR(256)    NOT NULL,\\nmodTime         INTEGER         NOT NULL,\\nsize            INTEGER         NOT NULL,\\nlocalCopy       VARCHAR(4096)   NOT NULL,\\ncopyTime    INTEGER         NOT NULL,\\nattributes      BLOB,\\nPRIMARY KEY(safeID, name, dir, id)\\n);\\n' executed\\n\"\n",
      "time=\"2024-07-16T17:33:45+02:00\" level=info msg=\"sqlx.(*DB).Define[define.go:38] - SQL Init stmt (line 43) 'CREATE INDEX IF NOT EXISTS idx_stash_files_id ON stash_files(id)\\n' executed\\n\"\n",
      "time=\"2024-07-16T17:33:45+02:00\" level=info msg=\"sqlx.(*DB).Define[define.go:38] - SQL Init stmt (line 46) 'CREATE INDEX IF NOT EXISTS idx_stash_files_groupName ON stash_files(groupName)\\n' executed\\n\"\n",
      "time=\"2024-07-16T17:33:45+02:00\" level=info msg=\"sqlx.(*DB).Define[define.go:38] - SQL Init stmt (line 49) 'CREATE INDEX IF NOT EXISTS idx_stash_files_tags ON stash_files(tags)\\n' executed\\n\"\n",
      "time=\"2024-07-16T17:33:45+02:00\" level=info msg=\"sqlx.(*DB).Define[define.go:38] - SQL Init stmt (line 52) 'CREATE INDEX IF NOT EXISTS idx_stash_files_modTime ON stash_files(modTime)\\n' executed\\n\"\n",
      "time=\"2024-07-16T17:33:45+02:00\" level=info msg=\"sqlx.(*DB).Define[define.go:38] - SQL Init stmt (line 55) 'CREATE INDEX IF NOT EXISTS idx_stash_files_name ON stash_files(name)\\n' executed\\n\"\n",
      "time=\"2024-07-16T17:33:45+02:00\" level=info msg=\"sqlx.(*DB).prepareStatement[define.go:81] - SQL statement compiled: 'STASH_STORE_FILE' (58) 'INSERT INTO stash_files(safeID,name,dir,id,creator,groupName,tags,encryptionKey,modTime,size,localCopy,\\ncopyTime, attributes) VALUES(:safeID,:name,:dir,:id,:creator,:groupName,:tags,:encryptionKey,\\n:modTime,:size,:localCopy,:copyTime,:attributes) ON CONFLICT(safeID,name,dir,id) DO UPDATE\\nSET creator=:creator,groupName=:groupName,tags=:tags,encryptionKey=:encryptionKey,modTime=:modTime,\\nsize=:size,localCopy=:localCopy,copyTime=:copyTime,attributes=:attributes\\nWHERE id=:id AND safeID=:safeID AND name=:name AND dir=:dir\\n'\\n\"\n",
      "time=\"2024-07-16T17:33:45+02:00\" level=info msg=\"sqlx.(*DB).prepareStatement[define.go:81] - SQL statement compiled: 'STASH_STORE_DIR' (66) 'INSERT INTO stash_files(safeID,name,dir,id,creator,groupName,tags,encryptionKey,modTime,size,localCopy,copyTime)\\nVALUES(:safeID,:name,:dir,0,'','','','',0,0,'',0)\\nON CONFLICT(safeID,name,dir,id) DO NOTHING\\n'\\n\"\n",
      "time=\"2024-07-16T17:33:45+02:00\" level=info msg=\"sqlx.(*DB).prepareStatement[define.go:81] - SQL statement compiled: 'STASH_UPDATE_LOCALCOPY' (71) 'UPDATE stash_files SET localCopy=:localCopy, copyTime=:copyTime\\nWHERE safeID=:safeID AND name=:name AND dir=:dir AND id=:id\\n'\\n\"\n",
      "time=\"2024-07-16T17:33:45+02:00\" level=info msg=\"sqlx.(*DB).prepareStatement[define.go:81] - SQL statement compiled: 'STASH_GET_LAST_ID' (75) 'SELECT id FROM stash_files WHERE dir=:dir ORDER BY id DESC LIMIT 1\\n'\\n\"\n",
      "time=\"2024-07-16T17:33:45+02:00\" level=info msg=\"sqlx.(*DB).prepareStatement[define.go:81] - SQL statement compiled: 'STASH_GET_FILE_BY_NAME' (92) 'SELECT  id,groupName,tags,modTime,size,creator,attributes,localCopy,copyTime,encryptionKey\\nFROM stash_files WHERE safeID=:safeID AND dir=:dir AND name=:name ORDER BY id DESC LIMIT 1\\n'\\n\"\n",
      "time=\"2024-07-16T17:33:45+02:00\" level=info msg=\"sqlx.(*DB).prepareStatement[define.go:81] - SQL statement compiled: 'STASH_GET_GROUP_NAME' (96) 'SELECT DISTINCT groupName FROM stash_files WHERE safeID=:safeID AND dir = :dir AND name = :name\\n'\\n\"\n",
      "time=\"2024-07-16T17:33:45+02:00\" level=info msg=\"sqlx.(*DB).prepareStatement[define.go:81] - SQL statement compiled: 'STASH_DELETE_FILE' (99) 'DELETE FROM stash_files WHERE safeID=:safeID AND id=:id\\n'\\n\"\n",
      "time=\"2024-07-16T17:33:45+02:00\" level=info msg=\"sqlx.(*DB).prepareStatement[define.go:81] - SQL statement compiled: 'STASH_DELETE_DIR' (102) 'DELETE FROM stash_files WHERE safeID=:safeID AND dir=:dir AND id=0 AND NOT EXISTS(SELECT 1 FROM stash_files WHERE safeID=:safeID AND dir=:dir AND id>0)\\n'\\n\"\n",
      "time=\"2024-07-16T17:33:45+02:00\" level=info msg=\"sqlx.(*DB).prepareStatement[define.go:81] - SQL statement compiled: 'STASH_RENAME_FILE' (105) 'UPDATE stash_files SET name=:newName, dir=:newDir WHERE safeID=:safeID AND id=:id AND name=:oldName AND dir=:oldDir\\n'\\n\"\n",
      "time=\"2024-07-16T17:33:45+02:00\" level=info msg=\"sqlx.(*DB).Define[define.go:38] - SQL Init stmt (line 108) 'CREATE TABLE IF NOT EXISTS stash_file_async (\\nsafeID      VARCHAR(256)    NOT NULL,\\nid          VARCHAR(256)    NOT NULL,\\ndeleteSrc   INTEGER         NOT NULL,\\nlocalCopy   VARCHAR(4096)   NOT NULL,\\noperation   VARCHAR(0)      NOT NULL,\\nfile        BLOB NOT        NULL,\\ndata        BLOB,\\nCONSTRAINT pk_stash_file_async PRIMARY KEY(safeID,id)\\n);\\n' executed\\n\"\n",
      "time=\"2024-07-16T17:33:45+02:00\" level=info msg=\"sqlx.(*DB).prepareStatement[define.go:81] - SQL statement compiled: 'STASH_INSERT_FILE_ASYNC' (120) 'INSERT INTO stash_file_async(safeID,id,deleteSrc,localCopy,operation,file,data)\\nVALUES(:safeID,:id,:deleteSrc,:localCopy,:operation,:file,:data)\\n'\\n\"\n",
      "time=\"2024-07-16T17:33:45+02:00\" level=info msg=\"sqlx.(*DB).prepareStatement[define.go:81] - SQL statement compiled: 'STASH_GET_FILE_ASYNC' (124) 'SELECT file,data, deleteSrc, localCopy, operation FROM stash_file_async WHERE safeID=:safeID AND id=:id\\n'\\n\"\n",
      "time=\"2024-07-16T17:33:45+02:00\" level=info msg=\"sqlx.(*DB).prepareStatement[define.go:81] - SQL statement compiled: 'STASH_GET_FILES_ASYNC' (127) 'SELECT id,file,data, deleteSrc, localCopy, operation FROM stash_file_async WHERE safeID=:safeID\\n'\\n\"\n",
      "time=\"2024-07-16T17:33:45+02:00\" level=info msg=\"sqlx.(*DB).prepareStatement[define.go:81] - SQL statement compiled: 'STASH_DEL_FILE_ASYNC' (130) 'DELETE FROM stash_file_async WHERE safeID=:safeID AND id=:id\\n'\\n\"\n",
      "time=\"2024-07-16T17:33:45+02:00\" level=info msg=\"sqlx.(*DB).Define[define.go:38] - SQL Init stmt (line 133) 'CREATE TABLE IF NOT EXISTS stash_tx (\\nsafeID      TEXT,\\ngroupName   TEXT,\\nkind        TEXT,\\nid      TEXT,\\nCONSTRAINT pk_stash_tx_key PRIMARY KEY(safeID,groupName,kind)\\n)\\n' executed\\n\"\n",
      "time=\"2024-07-16T17:33:45+02:00\" level=info msg=\"sqlx.(*DB).prepareStatement[define.go:81] - SQL statement compiled: 'STASH_STORE_TX' (142) 'INSERT INTO stash_tx (safeID,groupName,kind,id) VALUES(:safeID,:groupName,:kind,:id)\\nON CONFLICT(safeID,groupName,kind) DO UPDATE SET id=:id\\nWHERE safeID=:safeID AND groupName=:groupName AND kind=:kind\\n'\\n\"\n",
      "time=\"2024-07-16T17:33:45+02:00\" level=info msg=\"sqlx.(*DB).prepareStatement[define.go:81] - SQL statement compiled: 'STASH_GET_TX' (147) 'SELECT kind, id FROM stash_tx WHERE safeID = :safeID AND groupName = :groupName\\n'\\n\"\n",
      "time=\"2024-07-16T17:33:45+02:00\" level=info msg=\"sqlx.(*DB).prepareStatement[define.go:81] - SQL statement compiled: 'STASH_DEL_TX_KIND' (150) 'DELETE FROM stash_tx WHERE safeID = :safeID AND groupName = :groupName AND kind = :kind\\n'\\n\"\n",
      "time=\"2024-07-16T17:33:45+02:00\" level=error msg=\"config signature is invalid\\n\\tsafe.(*Safe).ReadConfig: /home/ea/Github/stash/lib/safe/config.go:35\\n\\tsafe.Open: /home/ea/Github/stash/lib/safe/open.go:64\\n\\tmain.stash_openStash: /home/ea/Github/stash/lib/export.go:200\\n\\t_cgoexp_b0b4ea001f95_stash_openStash: _cgo_gotypes.go:221\\n\\truntime.cgocallbackg1: /usr/local/go/src/runtime/cgocall.go:403\\n\\truntime.cgocallbackg: /usr/local/go/src/runtime/cgocall.go:322\\n\\truntime.cgocallback: /usr/local/go/src/runtime/asm_amd64.s:1079\\n\\truntime.goexit: /usr/local/go/src/runtime/asm_amd64.s:1695\"\n"
     ]
    },
    {
     "data": {
      "text/plain": [
       "file:///tmp/stash/Admin.ArsbgIrlX148mKQ9sNZ7Gu7Xpo2hCU8oBztkVf_0_89rdf3qP8Yqv6FzGW4KTc18WcEPnCpybORzEw+TOHIQhkI!/sample"
      ]
     },
     "execution_count": 23,
     "metadata": {},
     "output_type": "execute_result"
    }
   ],
   "source": [
    "url = 'file:///tmp/stash/{}/sample'.format(i)\n",
    "s = Safe.open(DB.default(), i, url)\n",
    "s"
   ]
  },
  {
   "cell_type": "markdown",
   "id": "a761fd35-ad2a-4474-b759-1c32de8f8386",
   "metadata": {},
   "source": [
    "### Filesystem\n",
    "A filesystem provides a file-oriented interface on top of a safe. Use the _put_data_ method to write a new file and the _list_ method to display the updated directory contents."
   ]
  },
  {
   "cell_type": "code",
   "execution_count": 7,
   "id": "5c4b38a4",
   "metadata": {},
   "outputs": [
    {
     "name": "stderr",
     "output_type": "stream",
     "text": [
      "time=\"2024-07-16T09:09:51+02:00\" level=info msg=\"fs.(*FileSystem).putSync[put.go:122] - putting file 2d3efe172472000 from data\"\n",
      "time=\"2024-07-16T09:09:51+02:00\" level=info msg=\"fs.writeBody[put.go:195] - writing body to fs/data/2d3efe172472000\"\n",
      "time=\"2024-07-16T09:09:51+02:00\" level=info msg=\"fs.writeHeader[file.go:83] - encrypting header sub/test.txt\"\n",
      "time=\"2024-07-16T09:09:51+02:00\" level=info msg=\"fs.writeHeader[file.go:89] - writing header sub/test.txt to fs/headers/82719d195d0fc2f5/2d3efe172472000\"\n",
      "time=\"2024-07-16T09:09:51+02:00\" level=info msg=\"fs.syncHeaders[file.go:140] - found 1 headers in sub\"\n",
      "time=\"2024-07-16T09:09:51+02:00\" level=info msg=\"fs.readHeader[file.go:131] - read header sub/test.txt with id 203770159725748224\"\n",
      "time=\"2024-07-16T09:09:51+02:00\" level=info msg=\"fs.writeFileToDB[file.go:203] - stored dir sub\"\n",
      "time=\"2024-07-16T09:09:51+02:00\" level=info msg=\"fs.writeFileToDB[file.go:207] - stored file sub/test.txt with id 203770159725748224, args map[attributes:map[] copyTime:2024-07-16 09:09:51.947328251 +0200 CEST m=+7.685605495 creator:Admin.ArsbgIrlX148mKQ9sNZ7Gu7Xpo2hCU8oBztkVf_0_89rdf3qP8Yqv6FzGW4KTc18WcEPnCpybORzEw+TOHIQhkI! dir:sub encryptionKey:[13 124 203 231 73 249 68 148 235 237 42 51 16 20 255 82 82 225 166 165 209 209 130 156 16 108 128 222 10 176 156 50 33 69 178 253 180 231 198 209 236 54 87 7 176 214 36 251] groupName:usr id:203770159725748224 localCopy: modTime:2024-07-16 09:09:51.946423794 +0200 CEST name:test.txt safeID:file:///tmp/stash/Admin.ArsbgIrlX148mKQ9sNZ7Gu7Xpo2hCU8oBztkVf_0_89rdf3qP8Yqv6FzGW4KTc18WcEPnCpybORzEw+TOHIQhkI!/sample size:4 tags:  ]\"\n",
      "time=\"2024-07-16T09:09:51+02:00\" level=info msg=\"fs.(*FileSystem).List[list.go:23] - syncing headers of \"\n",
      "time=\"2024-07-16T09:09:51+02:00\" level=info msg=\"fs.searchFiles[file.go:243] - found file /sub\"\n",
      "time=\"2024-07-16T09:09:51+02:00\" level=info msg=\"fs.searchFiles[file.go:245] - found 1 files in  with search options map[#orderBy: after:-6795364578871345152 before:-6795364578871345152 creator: dir: groupName: limit:100 name: offset:0 prefix: safeID:file:///tmp/stash/Admin.ArsbgIrlX148mKQ9sNZ7Gu7Xpo2hCU8oBztkVf_0_89rdf3qP8Yqv6FzGW4KTc18WcEPnCpybORzEw+TOHIQhkI!/sample suffix: tag:]\"\n"
     ]
    },
    {
     "data": {
      "text/plain": [
       "[{'id': 0,\n",
       "  'dir': '',\n",
       "  'name': 'sub',\n",
       "  'isDir': True,\n",
       "  'groupName': '',\n",
       "  'creator': '',\n",
       "  'size': 0,\n",
       "  'modTime': '1970-01-01T01:00:00+01:00',\n",
       "  'tags': [''],\n",
       "  'attributes': None,\n",
       "  'localCopy': '',\n",
       "  'copyTime': '1970-01-01T01:00:00+01:00',\n",
       "  'encryptionKey': ''}]"
      ]
     },
     "execution_count": 7,
     "metadata": {},
     "output_type": "execute_result"
    }
   ],
   "source": [
    "fs = s.fs()\n",
    "fs.put_data('sub/test.txt', b'test')\n",
    "fs.list()"
   ]
  },
  {
   "cell_type": "code",
   "execution_count": 8,
   "id": "98588960-c6fa-46ee-8a58-6cea9bf4fb3c",
   "metadata": {},
   "outputs": [
    {
     "name": "stderr",
     "output_type": "stream",
     "text": [
      "time=\"2024-07-16T09:09:56+02:00\" level=info msg=\"fs.searchFiles[file.go:243] - found file sub/test.txt\"\n",
      "time=\"2024-07-16T09:09:56+02:00\" level=info msg=\"fs.searchFiles[file.go:245] - found 1 files in sub with search options map[#orderBy: after:-6795364578871345152 before:-6795364578871345152 creator: dir:sub groupName: limit:100 name: offset:0 prefix: safeID:file:///tmp/stash/Admin.ArsbgIrlX148mKQ9sNZ7Gu7Xpo2hCU8oBztkVf_0_89rdf3qP8Yqv6FzGW4KTc18WcEPnCpybORzEw+TOHIQhkI!/sample suffix: tag:]\"\n"
     ]
    },
    {
     "data": {
      "text/plain": [
       "[{'id': 203770159725748224,\n",
       "  'dir': 'sub',\n",
       "  'name': 'test.txt',\n",
       "  'isDir': False,\n",
       "  'groupName': 'usr',\n",
       "  'creator': 'Admin.ArsbgIrlX148mKQ9sNZ7Gu7Xpo2hCU8oBztkVf_0_89rdf3qP8Yqv6FzGW4KTc18WcEPnCpybORzEw+TOHIQhkI!',\n",
       "  'size': 4,\n",
       "  'modTime': '2024-07-16T09:09:51.946423794+02:00',\n",
       "  'tags': [''],\n",
       "  'attributes': None,\n",
       "  'localCopy': '',\n",
       "  'copyTime': '2024-07-16T09:09:51.947328251+02:00',\n",
       "  'encryptionKey': 'DXzL50n5RJTr7SozEBT/UlLhpqXR0YKcEGyA3gqwnDIhRbL9tOfG0ew2Vwew1iT7'}]"
      ]
     },
     "execution_count": 8,
     "metadata": {},
     "output_type": "execute_result"
    }
   ],
   "source": [
    "fs.list('sub')"
   ]
  },
  {
   "cell_type": "code",
   "execution_count": 9,
   "id": "8ba8b88c",
   "metadata": {},
   "outputs": [
    {
     "data": {
      "text/plain": [
       "b'test'"
      ]
     },
     "execution_count": 9,
     "metadata": {},
     "output_type": "execute_result"
    }
   ],
   "source": [
    "fs.get_data('sub/test.txt')"
   ]
  },
  {
   "cell_type": "code",
   "execution_count": 10,
   "id": "79bf19a2-55ba-4c84-95cf-433df899853d",
   "metadata": {},
   "outputs": [
    {
     "name": "stderr",
     "output_type": "stream",
     "text": [
      "time=\"2024-07-16T17:26:30+02:00\" level=info msg=\"fs.(*FileSystem).List[list.go:23] - syncing headers of \"\n",
      "time=\"2024-07-16T17:26:30+02:00\" level=info msg=\"fs.searchFiles[file.go:245] - found 0 files in  with search options map[#orderBy: after:-6795364578871345152 before:-6795364578871345152 creator: dir: groupName: limit:100 name: offset:0 prefix: safeID:file:///tmp/stash/Admin.ArsbgIrlX148mKQ9sNZ7Gu7Xpo2hCU8oBztkVf_0_89rdf3qP8Yqv6FzGW4KTc18WcEPnCpybORzEw+TOHIQhkI!/sample suffix: tag:]\"\n"
     ]
    },
    {
     "data": {
      "text/plain": [
       "[]"
      ]
     },
     "execution_count": 10,
     "metadata": {},
     "output_type": "execute_result"
    }
   ],
   "source": [
    "fs.delete('sub/test.txt')\n",
    "fs.list()"
   ]
  },
  {
   "cell_type": "markdown",
   "id": "a26cf804-af5f-40c0-9a76-4710cd93a069",
   "metadata": {},
   "source": [
    "### Distributed Database\n",
    "This is an SQLite API that propagates changes to other peers through a secure mechanism.\n",
    "\n",
    "When creating a new instance, it must be associated with a group used for data transfer through this secure channel. Only users within the specified group will receive updates. During instance creation, you can provide initialization DDL statements; each initialization SQL statement must be preceded by the comment -- INIT to ensure proper processing and setup of the database.\n"
   ]
  },
  {
   "cell_type": "code",
   "execution_count": 11,
   "id": "6526eadd-351f-45de-8917-444c3328ba35",
   "metadata": {
    "scrolled": true
   },
   "outputs": [
    {
     "name": "stderr",
     "output_type": "stream",
     "text": [
      "time=\"2024-07-16T17:26:33+02:00\" level=info msg=\"sqlx.(*DB).Define[define.go:38] - SQL Init stmt (line 2) 'CREATE TABLE IF NOT EXISTS animal (id INTEGER PRIMARY KEY AUTOINCREMENT, name TEXT)\\n' executed\\n\"\n",
      "time=\"2024-07-16T17:26:33+02:00\" level=info msg=\"db.Open[db.go:32] - Opening database on safe file:///tmp/stash/Admin.ArsbgIrlX148mKQ9sNZ7Gu7Xpo2hCU8oBztkVf_0_89rdf3qP8Yqv6FzGW4KTc18WcEPnCpybORzEw+TOHIQhkI!/sample with group usr\"\n"
     ]
    }
   ],
   "source": [
    "ddl = \"\"\"\n",
    "-- INIT\n",
    "CREATE TABLE IF NOT EXISTS animal (id INTEGER PRIMARY KEY AUTOINCREMENT, name TEXT)\n",
    "\"\"\"\n",
    "\n",
    "ddls = {1.0: ddl}\n",
    "d = s.database('usr', ddls)"
   ]
  },
  {
   "cell_type": "markdown",
   "id": "2020ea6b-89bb-4e42-bba6-04dbb4180f9c",
   "metadata": {},
   "source": [
    "The below code insert a row in the table and then retrieve all the values"
   ]
  },
  {
   "cell_type": "code",
   "execution_count": 12,
   "id": "f5376b30-81bc-4f5b-8d14-9cc3f5eec775",
   "metadata": {},
   "outputs": [
    {
     "name": "stdout",
     "output_type": "stream",
     "text": [
      "[1, 'cat']\n",
      "[2, 'cat']\n",
      "[3, 'cat']\n",
      "[4, 'cat']\n",
      "[5, 'cat']\n",
      "[6, 'cat']\n"
     ]
    }
   ],
   "source": [
    "d.exec('INSERT INTO animal (name) VALUES (:name)', name = 'cat')\n",
    "rows = d.query(\"SELECT * FROM animal \")\n",
    "for row in rows:\n",
    "    print(row)"
   ]
  },
  {
   "cell_type": "markdown",
   "id": "c81ba0fe-2578-4695-af2a-0cf64c3c9cd2",
   "metadata": {},
   "source": [
    "The methods _exec_ and _select_ operate locally. Only when the method _sync_ is called, changes propagates to other peers and at the same outgoing changes are applied."
   ]
  },
  {
   "cell_type": "code",
   "execution_count": 13,
   "id": "023ccfa7-7faf-4dc0-ad3d-117a79a16b95",
   "metadata": {},
   "outputs": [
    {
     "name": "stderr",
     "output_type": "stream",
     "text": [
      "time=\"2024-07-16T17:26:37+02:00\" level=info msg=\"safe.SyncGroupChain[group.go:187] - group chain is up to date, using the local copy\"\n"
     ]
    }
   ],
   "source": [
    "d.sync()"
   ]
  },
  {
   "cell_type": "markdown",
   "id": "d27a38db-73ab-4a9e-b96a-16cc9e9982e3",
   "metadata": {},
   "source": [
    "#### Placeholders\n",
    "\n",
    "The API includes a mechanism for defining placeholders within initialization SQL, which enhances both readability and performance. To create a placeholder, add a comment prefix (--) followed by the placeholder name, and then write the SQL query you want to assign to that placeholder. This placeholder can then be used in place of the actual query in exec and query operations. Using placeholders not only makes your SQL more readable but also allows the API to cache the statement, improving execution efficiency."
   ]
  },
  {
   "cell_type": "code",
   "execution_count": 14,
   "id": "435bc151-93c5-4e4b-924b-ce0061942cde",
   "metadata": {},
   "outputs": [
    {
     "name": "stdout",
     "output_type": "stream",
     "text": [
      "[1, 'cat']\n",
      "[2, 'cat']\n",
      "[3, 'cat']\n",
      "[4, 'cat']\n",
      "[5, 'cat']\n",
      "[6, 'cat']\n",
      "[7, 'cat']\n"
     ]
    },
    {
     "name": "stderr",
     "output_type": "stream",
     "text": [
      "time=\"2024-07-16T17:26:39+02:00\" level=info msg=\"sqlx.(*DB).Define[define.go:38] - SQL Init stmt (line 2) 'CREATE TABLE IF NOT EXISTS animal (id INTEGER PRIMARY KEY AUTOINCREMENT, name TEXT)\\n' executed\\n\"\n",
      "time=\"2024-07-16T17:26:39+02:00\" level=info msg=\"sqlx.(*DB).prepareStatement[define.go:81] - SQL statement compiled: 'INSERT_ANIMAL' (5) 'INSERT INTO animal (name) VALUES (:name)\\n'\\n\"\n",
      "time=\"2024-07-16T17:26:39+02:00\" level=info msg=\"sqlx.(*DB).prepareStatement[define.go:81] - SQL statement compiled: 'SELECT_ANIMALS' (8) 'SELECT * FROM animal\\n'\\n\"\n",
      "time=\"2024-07-16T17:26:39+02:00\" level=info msg=\"sqlx.(*DB).prepareStatement[define.go:81] - SQL statement compiled: 'PRUNE_ANIMALS' (11) 'DELETE FROM animal WHERE id NOT IN (\\nSELECT id FROM animal\\nORDER BY id\\nLIMIT 5\\n);\\n'\\n\"\n",
      "time=\"2024-07-16T17:26:39+02:00\" level=info msg=\"db.Open[db.go:32] - Opening database on safe file:///tmp/stash/Admin.ArsbgIrlX148mKQ9sNZ7Gu7Xpo2hCU8oBztkVf_0_89rdf3qP8Yqv6FzGW4KTc18WcEPnCpybORzEw+TOHIQhkI!/sample with group usr\"\n"
     ]
    }
   ],
   "source": [
    "ddl = \"\"\"\n",
    "-- INIT\n",
    "CREATE TABLE IF NOT EXISTS animal (id INTEGER PRIMARY KEY AUTOINCREMENT, name TEXT)\n",
    "\n",
    "-- INSERT_ANIMAL\n",
    "INSERT INTO animal (name) VALUES (:name)\n",
    "\n",
    "-- SELECT_ANIMALS\n",
    "SELECT * FROM animal\n",
    "\n",
    "-- PRUNE_ANIMALS\n",
    "DELETE FROM animal WHERE id NOT IN (\n",
    "    SELECT id FROM animal\n",
    "    ORDER BY id\n",
    "    LIMIT 5\n",
    ");\n",
    "\n",
    "\"\"\"\n",
    "\n",
    "ddls = {1.0: ddl}\n",
    "d = s.database('usr', ddls)\n",
    "\n",
    "d.exec('INSERT_ANIMAL', name = 'cat')\n",
    "rows = d.query('SELECT_ANIMALS')\n",
    "for row in rows:\n",
    "    print(row)\n"
   ]
  },
  {
   "cell_type": "code",
   "execution_count": 15,
   "id": "82333763-02c3-46da-ab30-a58146e13b12",
   "metadata": {},
   "outputs": [
    {
     "name": "stderr",
     "output_type": "stream",
     "text": [
      "time=\"2024-07-16T17:26:41+02:00\" level=info msg=\"safe.SyncGroupChain[group.go:187] - group chain is up to date, using the local copy\"\n"
     ]
    },
    {
     "data": {
      "text/plain": [
       "2"
      ]
     },
     "execution_count": 15,
     "metadata": {},
     "output_type": "execute_result"
    }
   ],
   "source": [
    "d.sync()\n",
    "d.exec('PRUNE_ANIMALS')"
   ]
  },
  {
   "cell_type": "markdown",
   "id": "3287a487-98da-494b-94ed-523e2cdafcb5",
   "metadata": {},
   "source": [
    "### Communication\n",
    "A communication is a messaging interface for peer-to-peer communication or  broadcast to all users in a group. \n",
    "For instance a broadcast to all users in group _usr_ only requires two lines. A message can contain _text_, binary _data_ or the location of a _file_ to add as attachment."
   ]
  },
  {
   "cell_type": "code",
   "execution_count": 16,
   "id": "254777b1-6b62-4b84-9839-41c7a7f22ade",
   "metadata": {},
   "outputs": [
    {
     "name": "stdout",
     "output_type": "stream",
     "text": [
      "{'Text': 'hello', 'Data': '', 'File': ''}\n"
     ]
    },
    {
     "name": "stderr",
     "output_type": "stream",
     "text": [
      "time=\"2024-07-16T17:26:42+02:00\" level=info msg=\"safe.SyncGroupChain[group.go:187] - group chain is up to date, using the local copy\"\n",
      "time=\"2024-07-16T17:26:42+02:00\" level=info msg=\"comm.(*Comm).send[send.go:79] - message for id 203895192557133824 saved to comm/usr/2d46198ebc72000\"\n"
     ]
    }
   ],
   "source": [
    "c = s.comm() #Comm is a service on top of a safe to \n",
    "c.broadcast('usr', text='hello')"
   ]
  },
  {
   "cell_type": "markdown",
   "id": "eeb13487-7b4b-4ee9-9b0a-2dd7d5cd1ba0",
   "metadata": {
    "scrolled": true
   },
   "source": [
    "Receiving messages is straightforward as well. By default, the _receive_ function returns messages for the current user and the groups to which the user belongs. Optionally the parameter _filter_ can restrict the retrieval to a specific group or user."
   ]
  },
  {
   "cell_type": "code",
   "execution_count": 17,
   "id": "f078b74b-4568-467c-8882-3d86497870ad",
   "metadata": {},
   "outputs": [
    {
     "name": "stderr",
     "output_type": "stream",
     "text": [
      "time=\"2024-07-16T17:26:42+02:00\" level=info msg=\"safe.SyncGroupChain[group.go:187] - group chain is up to date, using the local copy\"\n",
      "time=\"2024-07-16T17:26:42+02:00\" level=info msg=\"safe.SyncGroupChain[group.go:187] - group chain is up to date, using the local copy\"\n",
      "time=\"2024-07-16T17:26:42+02:00\" level=info msg=\"comm.(*Comm).Receive[receive.go:64] - received 1 messages from safe file:///tmp/stash/Admin.ArsbgIrlX148mKQ9sNZ7Gu7Xpo2hCU8oBztkVf_0_89rdf3qP8Yqv6FzGW4KTc18WcEPnCpybORzEw+TOHIQhkI!/sample\"\n"
     ]
    },
    {
     "data": {
      "text/plain": [
       "[{'sender': 'Admin.ArsbgIrlX148mKQ9sNZ7Gu7Xpo2hCU8oBztkVf_0_89rdf3qP8Yqv6FzGW4KTc18WcEPnCpybORzEw+TOHIQhkI!',\n",
       "  'encryptionId': 0,\n",
       "  'recipient': 'usr',\n",
       "  'id': 203895192557133824,\n",
       "  'text': 'hello',\n",
       "  'data': '',\n",
       "  'file': ''}]"
      ]
     },
     "execution_count": 17,
     "metadata": {},
     "output_type": "execute_result"
    }
   ],
   "source": [
    "c.receive()"
   ]
  },
  {
   "cell_type": "markdown",
   "id": "fa31522e-bc32-4be1-9566-b2777ce29120",
   "metadata": {},
   "source": [
    "Receiving a message consumes it, ensuring that previously examined messages are not returned in subsequent calls."
   ]
  },
  {
   "cell_type": "code",
   "execution_count": 18,
   "id": "8927d925-d110-40aa-bb14-35a03edfa4dd",
   "metadata": {},
   "outputs": [
    {
     "name": "stdout",
     "output_type": "stream",
     "text": [
      "new messages: []\n"
     ]
    },
    {
     "name": "stderr",
     "output_type": "stream",
     "text": [
      "time=\"2024-07-16T17:26:43+02:00\" level=info msg=\"safe.SyncGroupChain[group.go:187] - group chain is up to date, using the local copy\"\n",
      "time=\"2024-07-16T17:26:43+02:00\" level=info msg=\"comm.(*Comm).Receive[receive.go:64] - received 0 messages from safe file:///tmp/stash/Admin.ArsbgIrlX148mKQ9sNZ7Gu7Xpo2hCU8oBztkVf_0_89rdf3qP8Yqv6FzGW4KTc18WcEPnCpybORzEw+TOHIQhkI!/sample\"\n"
     ]
    }
   ],
   "source": [
    "ms = c.receive()\n",
    "print('new messages:', ms)"
   ]
  },
  {
   "cell_type": "markdown",
   "id": "df520617-2f1f-4372-9ca6-6255bb8cb2de",
   "metadata": {},
   "source": [
    "It is still possible to receive older messages by rewinding to a specific message ID or to 0 to start from the first message."
   ]
  },
  {
   "cell_type": "code",
   "execution_count": 19,
   "id": "b244ef8a-d616-4e9b-8790-b056c3707e6d",
   "metadata": {},
   "outputs": [
    {
     "name": "stderr",
     "output_type": "stream",
     "text": [
      "time=\"2024-07-16T17:26:44+02:00\" level=info msg=\"comm.(*Comm).Rewind[comm.go:29] - rewinded communication for usr to id 0\"\n",
      "time=\"2024-07-16T17:26:44+02:00\" level=info msg=\"safe.SyncGroupChain[group.go:187] - group chain is up to date, using the local copy\"\n",
      "time=\"2024-07-16T17:26:44+02:00\" level=info msg=\"safe.SyncGroupChain[group.go:187] - group chain is up to date, using the local copy\"\n",
      "time=\"2024-07-16T17:26:44+02:00\" level=info msg=\"comm.(*Comm).Receive[receive.go:64] - received 1 messages from safe file:///tmp/stash/Admin.ArsbgIrlX148mKQ9sNZ7Gu7Xpo2hCU8oBztkVf_0_89rdf3qP8Yqv6FzGW4KTc18WcEPnCpybORzEw+TOHIQhkI!/sample\"\n"
     ]
    },
    {
     "data": {
      "text/plain": [
       "[{'sender': 'Admin.ArsbgIrlX148mKQ9sNZ7Gu7Xpo2hCU8oBztkVf_0_89rdf3qP8Yqv6FzGW4KTc18WcEPnCpybORzEw+TOHIQhkI!',\n",
       "  'encryptionId': 0,\n",
       "  'recipient': 'usr',\n",
       "  'id': 203895192557133824,\n",
       "  'text': 'hello',\n",
       "  'data': '',\n",
       "  'file': ''}]"
      ]
     },
     "execution_count": 19,
     "metadata": {},
     "output_type": "execute_result"
    }
   ],
   "source": [
    "c.rewind('usr', 0)\n",
    "c.receive()"
   ]
  },
  {
   "cell_type": "markdown",
   "id": "8371511d-822d-4509-a1ac-57d32e887bbd",
   "metadata": {},
   "source": [
    "#### Attachments\n",
    "A message can include an attached file by specifying its location in the local file system."
   ]
  },
  {
   "cell_type": "code",
   "execution_count": 20,
   "id": "1b981de5-152f-48a3-9457-27206fed6ff8",
   "metadata": {},
   "outputs": [
    {
     "name": "stderr",
     "output_type": "stream",
     "text": [
      "time=\"2024-07-16T17:26:46+02:00\" level=info msg=\"comm.(*Comm).send[send.go:52] - message file for id 203895209950912512 saved to comm/Admin.ArsbgIrlX148mKQ9sNZ7Gu7Xpo2hCU8oBztkVf_0_89rdf3qP8Yqv6FzGW4KTc18WcEPnCpybORzEw+TOHIQhkI!/2d4619cf8872000.data\"\n",
      "time=\"2024-07-16T17:26:46+02:00\" level=info msg=\"comm.(*Comm).send[send.go:79] - message for id 203895209950912512 saved to comm/Admin.ArsbgIrlX148mKQ9sNZ7Gu7Xpo2hCU8oBztkVf_0_89rdf3qP8Yqv6FzGW4KTc18WcEPnCpybORzEw+TOHIQhkI!/2d4619cf8872000\"\n"
     ]
    }
   ],
   "source": [
    "data = os.urandom(1 * 1024 * 1024)\n",
    "with open('content.in', 'wb') as f:\n",
    "    f.write(data)\n",
    "\n",
    "c.send(i.id, text='file to myself', file='content.in')\n",
    "os.remove('content.in')"
   ]
  },
  {
   "cell_type": "code",
   "execution_count": 21,
   "id": "836ac103-dcf1-4f22-9ca2-ece292a53705",
   "metadata": {},
   "outputs": [
    {
     "name": "stderr",
     "output_type": "stream",
     "text": [
      "time=\"2024-07-16T17:26:49+02:00\" level=info msg=\"safe.SyncGroupChain[group.go:187] - group chain is up to date, using the local copy\"\n",
      "time=\"2024-07-16T17:26:49+02:00\" level=info msg=\"comm.(*Comm).Receive[receive.go:64] - received 1 messages from safe file:///tmp/stash/Admin.ArsbgIrlX148mKQ9sNZ7Gu7Xpo2hCU8oBztkVf_0_89rdf3qP8Yqv6FzGW4KTc18WcEPnCpybORzEw+TOHIQhkI!/sample\"\n"
     ]
    },
    {
     "data": {
      "text/plain": [
       "'content.in'"
      ]
     },
     "execution_count": 21,
     "metadata": {},
     "output_type": "execute_result"
    }
   ],
   "source": [
    "m = c.receive()[0]\n",
    "m['file']"
   ]
  },
  {
   "cell_type": "code",
   "execution_count": 22,
   "id": "94d686e9-fe6e-44a6-9667-3ce416a8612d",
   "metadata": {},
   "outputs": [
    {
     "name": "stdout",
     "output_type": "stream",
     "text": [
      "Cool! the same\n"
     ]
    }
   ],
   "source": [
    "c.download(m, 'content.out')\n",
    "with open('content.out', 'rb') as file:\n",
    "    content = file.read()\n",
    "\n",
    "if content == data:\n",
    "    print('Cool! the same')\n",
    "os.remove('content.out')"
   ]
  },
  {
   "cell_type": "code",
   "execution_count": null,
   "id": "cd335dd8-71c0-40e9-8ed7-3884561ede11",
   "metadata": {},
   "outputs": [],
   "source": []
  }
 ],
 "metadata": {
  "kernelspec": {
   "display_name": "Python 3 (ipykernel)",
   "language": "python",
   "name": "python3"
  },
  "language_info": {
   "codemirror_mode": {
    "name": "ipython",
    "version": 3
   },
   "file_extension": ".py",
   "mimetype": "text/x-python",
   "name": "python",
   "nbconvert_exporter": "python",
   "pygments_lexer": "ipython3",
   "version": "3.9.6"
  }
 },
 "nbformat": 4,
 "nbformat_minor": 5
}
